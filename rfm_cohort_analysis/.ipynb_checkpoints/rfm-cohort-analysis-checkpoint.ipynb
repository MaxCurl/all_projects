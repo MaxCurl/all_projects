{
 "cells": [
  {
   "cell_type": "markdown",
   "metadata": {
    "papermill": {
     "duration": 0.024224,
     "end_time": "2021-03-02T10:57:59.779515",
     "exception": false,
     "start_time": "2021-03-02T10:57:59.755291",
     "status": "completed"
    },
    "tags": []
   },
   "source": [
    "This notebook reveals my solution for __RFM Analysis Task__ offered by Renat Alimbekov. \n",
    "\n",
    "This task is part of the __Task Series__ for Data Analysts/Scientists\n",
    "__Task Series__ - is a rubric where Alimbekov challenges his followers to solve tasks and share their solutions.\n",
    "So here I am :)\n",
    "\n",
    "Original solution can be found at - https://alimbekov.com/rfm-python/\n",
    "\n",
    "The task is to perform RFM Analysis. \n",
    "* __olist_orders_dataset.csv__ and __olist_order_payments_dataset.csv__ should be used\n",
    "* order_delivered_carrier_date - should be used in this task\n",
    "* Since the dataset is not actual by 2021, thus we should assume that we were asked to perform RFM analysis the day after the last record\n"
   ]
  },
  {
   "cell_type": "markdown",
   "metadata": {
    "papermill": {
     "duration": 0.021887,
     "end_time": "2021-03-02T10:57:59.824614",
     "exception": false,
     "start_time": "2021-03-02T10:57:59.802727",
     "status": "completed"
    },
    "tags": []
   },
   "source": [
    "# Importing the modules"
   ]
  },
  {
   "cell_type": "code",
   "execution_count": 2,
   "metadata": {
    "_cell_guid": "b1076dfc-b9ad-4769-8c92-a6c4dae69d19",
    "_uuid": "8f2839f25d086af736a60e9eeb907d3b93b6e0e5",
    "execution": {
     "iopub.execute_input": "2021-03-02T10:57:59.877345Z",
     "iopub.status.busy": "2021-03-02T10:57:59.876466Z",
     "iopub.status.idle": "2021-03-02T10:58:00.949657Z",
     "shell.execute_reply": "2021-03-02T10:58:00.950190Z"
    },
    "papermill": {
     "duration": 1.103917,
     "end_time": "2021-03-02T10:58:00.950615",
     "exception": false,
     "start_time": "2021-03-02T10:57:59.846698",
     "status": "completed"
    },
    "tags": []
   },
   "outputs": [],
   "source": [
    "import pandas as pd\n",
    "import numpy as np\n",
    "\n",
    "import squarify\n",
    "import matplotlib.pyplot as plt\n",
    "import seaborn as sns\n",
    "plt.style.use('ggplot')\n",
    "\n",
    "import warnings\n",
    "warnings.filterwarnings('ignore')"
   ]
  },
  {
   "cell_type": "markdown",
   "metadata": {
    "papermill": {
     "duration": 0.021857,
     "end_time": "2021-03-02T10:58:00.995292",
     "exception": false,
     "start_time": "2021-03-02T10:58:00.973435",
     "status": "completed"
    },
    "tags": []
   },
   "source": [
    "# Loading the data"
   ]
  },
  {
   "cell_type": "code",
   "execution_count": 5,
   "metadata": {
    "execution": {
     "iopub.execute_input": "2021-03-02T10:58:01.046022Z",
     "iopub.status.busy": "2021-03-02T10:58:01.045211Z",
     "iopub.status.idle": "2021-03-02T10:58:02.188512Z",
     "shell.execute_reply": "2021-03-02T10:58:02.187585Z"
    },
    "papermill": {
     "duration": 1.171312,
     "end_time": "2021-03-02T10:58:02.188702",
     "exception": false,
     "start_time": "2021-03-02T10:58:01.017390",
     "status": "completed"
    },
    "tags": []
   },
   "outputs": [],
   "source": [
    "orders = pd.read_csv('input/olist_orders_dataset.csv')\n",
    "payments = pd.read_csv('input/olist_order_payments_dataset.csv')"
   ]
  },
  {
   "cell_type": "markdown",
   "metadata": {
    "papermill": {
     "duration": 0.022508,
     "end_time": "2021-03-02T10:58:02.233635",
     "exception": false,
     "start_time": "2021-03-02T10:58:02.211127",
     "status": "completed"
    },
    "tags": []
   },
   "source": [
    "# Dataframes join"
   ]
  },
  {
   "cell_type": "code",
   "execution_count": 6,
   "metadata": {
    "execution": {
     "iopub.execute_input": "2021-03-02T10:58:02.332225Z",
     "iopub.status.busy": "2021-03-02T10:58:02.331442Z",
     "iopub.status.idle": "2021-03-02T10:58:02.915288Z",
     "shell.execute_reply": "2021-03-02T10:58:02.914711Z"
    },
    "papermill": {
     "duration": 0.659279,
     "end_time": "2021-03-02T10:58:02.915455",
     "exception": false,
     "start_time": "2021-03-02T10:58:02.256176",
     "status": "completed"
    },
    "tags": []
   },
   "outputs": [],
   "source": [
    "orders['order_delivered_carrier_date'] = pd.to_datetime(orders['order_delivered_carrier_date']) # datetime conversion\n",
    "payments = payments.set_index('order_id') # preparation before the join\n",
    "orders = orders.set_index('order_id') # preparation before the join\n",
    "\n",
    "joined = orders.join(payments) # join on order_id"
   ]
  },
  {
   "cell_type": "code",
   "execution_count": 7,
   "metadata": {
    "execution": {
     "iopub.execute_input": "2021-03-02T10:58:03.023632Z",
     "iopub.status.busy": "2021-03-02T10:58:03.022870Z",
     "iopub.status.idle": "2021-03-02T10:58:03.073707Z",
     "shell.execute_reply": "2021-03-02T10:58:03.073121Z"
    },
    "papermill": {
     "duration": 0.13604,
     "end_time": "2021-03-02T10:58:03.073888",
     "exception": false,
     "start_time": "2021-03-02T10:58:02.937848",
     "status": "completed"
    },
    "tags": []
   },
   "outputs": [
    {
     "data": {
      "text/plain": [
       "order_delivered_customer_date    3132\n",
       "order_delivered_carrier_date     1888\n",
       "order_approved_at                 175\n",
       "payment_value                       1\n",
       "payment_installments                1\n",
       "payment_type                        1\n",
       "payment_sequential                  1\n",
       "order_estimated_delivery_date       0\n",
       "order_purchase_timestamp            0\n",
       "order_status                        0\n",
       "customer_id                         0\n",
       "dtype: int64"
      ]
     },
     "execution_count": 7,
     "metadata": {},
     "output_type": "execute_result"
    }
   ],
   "source": [
    "joined.isna()\\\n",
    "      .sum()\\\n",
    "      .sort_values(ascending=False)"
   ]
  },
  {
   "cell_type": "code",
   "execution_count": 5,
   "metadata": {
    "execution": {
     "iopub.execute_input": "2021-03-02T10:58:03.124926Z",
     "iopub.status.busy": "2021-03-02T10:58:03.124211Z",
     "iopub.status.idle": "2021-03-02T10:58:03.622395Z",
     "shell.execute_reply": "2021-03-02T10:58:03.623009Z"
    },
    "papermill": {
     "duration": 0.525822,
     "end_time": "2021-03-02T10:58:03.623231",
     "exception": false,
     "start_time": "2021-03-02T10:58:03.097409",
     "status": "completed"
    },
    "tags": []
   },
   "outputs": [
    {
     "data": {
      "text/plain": [
       "customer_id                      99441\n",
       "order_purchase_timestamp         98875\n",
       "order_delivered_customer_date    95664\n",
       "order_approved_at                90733\n",
       "order_delivered_carrier_date     81018\n",
       "payment_value                    29077\n",
       "order_estimated_delivery_date      459\n",
       "payment_sequential                  29\n",
       "payment_installments                24\n",
       "order_status                         8\n",
       "payment_type                         5\n",
       "dtype: int64"
      ]
     },
     "execution_count": 5,
     "metadata": {},
     "output_type": "execute_result"
    }
   ],
   "source": [
    "joined.nunique()\\\n",
    "      .sort_values(ascending=False)"
   ]
  },
  {
   "cell_type": "markdown",
   "metadata": {
    "papermill": {
     "duration": 0.023229,
     "end_time": "2021-03-02T10:58:03.670511",
     "exception": false,
     "start_time": "2021-03-02T10:58:03.647282",
     "status": "completed"
    },
    "tags": []
   },
   "source": [
    "It seems like we have missing values. And unfortunately order_delivered_carrier_date also has missing values. Thus, they should be dropped"
   ]
  },
  {
   "cell_type": "code",
   "execution_count": 6,
   "metadata": {
    "execution": {
     "iopub.execute_input": "2021-03-02T10:58:03.722650Z",
     "iopub.status.busy": "2021-03-02T10:58:03.721538Z",
     "iopub.status.idle": "2021-03-02T10:58:14.436478Z",
     "shell.execute_reply": "2021-03-02T10:58:14.435273Z"
    },
    "papermill": {
     "duration": 10.74234,
     "end_time": "2021-03-02T10:58:14.436670",
     "exception": false,
     "start_time": "2021-03-02T10:58:03.694330",
     "status": "completed"
    },
    "tags": []
   },
   "outputs": [],
   "source": [
    "last_date = joined['order_delivered_carrier_date'].max() + pd.to_timedelta(1, 'D')\n",
    "\n",
    "RFM = joined.dropna(subset=['order_delivered_carrier_date'])\\\n",
    "            .reset_index()\\\n",
    "            .groupby('customer_id')\\\n",
    "            .agg(Recency = ('order_delivered_carrier_date', lambda x: (last_date - x.max()).days ),\n",
    "                 Frequency = ('order_id', 'size'),\n",
    "                 Monetary = ('payment_value', 'sum'))"
   ]
  },
  {
   "cell_type": "markdown",
   "metadata": {
    "papermill": {
     "duration": 0.02383,
     "end_time": "2021-03-02T10:58:14.483847",
     "exception": false,
     "start_time": "2021-03-02T10:58:14.460017",
     "status": "completed"
    },
    "tags": []
   },
   "source": [
    "Sanity check - do we have NaN values or not?"
   ]
  },
  {
   "cell_type": "code",
   "execution_count": 7,
   "metadata": {
    "execution": {
     "iopub.execute_input": "2021-03-02T10:58:14.539784Z",
     "iopub.status.busy": "2021-03-02T10:58:14.539040Z",
     "iopub.status.idle": "2021-03-02T10:58:14.545545Z",
     "shell.execute_reply": "2021-03-02T10:58:14.546123Z"
    },
    "papermill": {
     "duration": 0.038419,
     "end_time": "2021-03-02T10:58:14.546337",
     "exception": false,
     "start_time": "2021-03-02T10:58:14.507918",
     "status": "completed"
    },
    "tags": []
   },
   "outputs": [
    {
     "data": {
      "text/plain": [
       "Recency      0\n",
       "Frequency    0\n",
       "Monetary     0\n",
       "dtype: int64"
      ]
     },
     "execution_count": 7,
     "metadata": {},
     "output_type": "execute_result"
    }
   ],
   "source": [
    "RFM.isna().sum()"
   ]
  },
  {
   "cell_type": "code",
   "execution_count": 8,
   "metadata": {
    "execution": {
     "iopub.execute_input": "2021-03-02T10:58:14.601857Z",
     "iopub.status.busy": "2021-03-02T10:58:14.600873Z",
     "iopub.status.idle": "2021-03-02T10:58:14.654888Z",
     "shell.execute_reply": "2021-03-02T10:58:14.653650Z"
    },
    "papermill": {
     "duration": 0.083851,
     "end_time": "2021-03-02T10:58:14.655145",
     "exception": false,
     "start_time": "2021-03-02T10:58:14.571294",
     "status": "completed"
    },
    "tags": []
   },
   "outputs": [
    {
     "data": {
      "text/html": [
       "<div>\n",
       "<style scoped>\n",
       "    .dataframe tbody tr th:only-of-type {\n",
       "        vertical-align: middle;\n",
       "    }\n",
       "\n",
       "    .dataframe tbody tr th {\n",
       "        vertical-align: top;\n",
       "    }\n",
       "\n",
       "    .dataframe thead th {\n",
       "        text-align: right;\n",
       "    }\n",
       "</style>\n",
       "<table border=\"1\" class=\"dataframe\">\n",
       "  <thead>\n",
       "    <tr style=\"text-align: right;\">\n",
       "      <th></th>\n",
       "      <th>count</th>\n",
       "      <th>mean</th>\n",
       "      <th>std</th>\n",
       "      <th>min</th>\n",
       "      <th>1%</th>\n",
       "      <th>5%</th>\n",
       "      <th>10%</th>\n",
       "      <th>25%</th>\n",
       "      <th>50%</th>\n",
       "      <th>75%</th>\n",
       "      <th>90%</th>\n",
       "      <th>95%</th>\n",
       "      <th>99%</th>\n",
       "      <th>max</th>\n",
       "    </tr>\n",
       "  </thead>\n",
       "  <tbody>\n",
       "    <tr>\n",
       "      <th>Recency</th>\n",
       "      <td>97658.0</td>\n",
       "      <td>250.511847</td>\n",
       "      <td>152.674579</td>\n",
       "      <td>1.0</td>\n",
       "      <td>21.00</td>\n",
       "      <td>35.00</td>\n",
       "      <td>54.00</td>\n",
       "      <td>127.00</td>\n",
       "      <td>231.00</td>\n",
       "      <td>361.00</td>\n",
       "      <td>478.00</td>\n",
       "      <td>532.000</td>\n",
       "      <td>587.0000</td>\n",
       "      <td>704.00</td>\n",
       "    </tr>\n",
       "    <tr>\n",
       "      <th>Frequency</th>\n",
       "      <td>97658.0</td>\n",
       "      <td>1.044451</td>\n",
       "      <td>0.378736</td>\n",
       "      <td>1.0</td>\n",
       "      <td>1.00</td>\n",
       "      <td>1.00</td>\n",
       "      <td>1.00</td>\n",
       "      <td>1.00</td>\n",
       "      <td>1.00</td>\n",
       "      <td>1.00</td>\n",
       "      <td>1.00</td>\n",
       "      <td>1.000</td>\n",
       "      <td>2.0000</td>\n",
       "      <td>29.00</td>\n",
       "    </tr>\n",
       "    <tr>\n",
       "      <th>Monetary</th>\n",
       "      <td>97658.0</td>\n",
       "      <td>159.824647</td>\n",
       "      <td>218.553380</td>\n",
       "      <td>0.0</td>\n",
       "      <td>22.38</td>\n",
       "      <td>32.38</td>\n",
       "      <td>39.59</td>\n",
       "      <td>61.93</td>\n",
       "      <td>105.28</td>\n",
       "      <td>176.26</td>\n",
       "      <td>305.77</td>\n",
       "      <td>446.558</td>\n",
       "      <td>1048.6658</td>\n",
       "      <td>13664.08</td>\n",
       "    </tr>\n",
       "  </tbody>\n",
       "</table>\n",
       "</div>"
      ],
      "text/plain": [
       "             count        mean         std  min     1%     5%    10%     25%  \\\n",
       "Recency    97658.0  250.511847  152.674579  1.0  21.00  35.00  54.00  127.00   \n",
       "Frequency  97658.0    1.044451    0.378736  1.0   1.00   1.00   1.00    1.00   \n",
       "Monetary   97658.0  159.824647  218.553380  0.0  22.38  32.38  39.59   61.93   \n",
       "\n",
       "              50%     75%     90%      95%        99%       max  \n",
       "Recency    231.00  361.00  478.00  532.000   587.0000    704.00  \n",
       "Frequency    1.00    1.00    1.00    1.000     2.0000     29.00  \n",
       "Monetary   105.28  176.26  305.77  446.558  1048.6658  13664.08  "
      ]
     },
     "execution_count": 8,
     "metadata": {},
     "output_type": "execute_result"
    }
   ],
   "source": [
    "RFM.describe([0.01, 0.05, 0.1, 0.25, 0.5, 0.75, 0.9, 0.95, 0.99]).T"
   ]
  },
  {
   "cell_type": "markdown",
   "metadata": {
    "papermill": {
     "duration": 0.02443,
     "end_time": "2021-03-02T10:58:14.704792",
     "exception": false,
     "start_time": "2021-03-02T10:58:14.680362",
     "status": "completed"
    },
    "tags": []
   },
   "source": [
    "So, here we can see that we have some outliers in Freqency and Monetary groups. Thus, they should be dropped and be analyzed separately"
   ]
  },
  {
   "cell_type": "markdown",
   "metadata": {
    "papermill": {
     "duration": 0.024596,
     "end_time": "2021-03-02T10:58:14.754624",
     "exception": false,
     "start_time": "2021-03-02T10:58:14.730028",
     "status": "completed"
    },
    "tags": []
   },
   "source": [
    "# Recency"
   ]
  },
  {
   "cell_type": "code",
   "execution_count": 9,
   "metadata": {
    "execution": {
     "iopub.execute_input": "2021-03-02T10:58:14.814308Z",
     "iopub.status.busy": "2021-03-02T10:58:14.813156Z",
     "iopub.status.idle": "2021-03-02T10:58:14.997276Z",
     "shell.execute_reply": "2021-03-02T10:58:14.997834Z"
    },
    "papermill": {
     "duration": 0.218025,
     "end_time": "2021-03-02T10:58:14.998088",
     "exception": false,
     "start_time": "2021-03-02T10:58:14.780063",
     "status": "completed"
    },
    "tags": []
   },
   "outputs": [
    {
     "data": {
      "image/png": "[encoded data removed]",
      "text/plain": [
       "<Figure size 864x432 with 1 Axes>"
      ]
     },
     "metadata": {},
     "output_type": "display_data"
    }
   ],
   "source": [
    "plt.figure(figsize=(12, 6))\n",
    "sns.boxplot(x='Recency', data=RFM)\n",
    "plt.title('Boxplot of Recency');"
   ]
  },
  {
   "cell_type": "markdown",
   "metadata": {
    "papermill": {
     "duration": 0.025155,
     "end_time": "2021-03-02T10:58:15.049110",
     "exception": false,
     "start_time": "2021-03-02T10:58:15.023955",
     "status": "completed"
    },
    "tags": []
   },
   "source": [
    "# Frequency"
   ]
  },
  {
   "cell_type": "code",
   "execution_count": 10,
   "metadata": {
    "execution": {
     "iopub.execute_input": "2021-03-02T10:58:15.104811Z",
     "iopub.status.busy": "2021-03-02T10:58:15.104019Z",
     "iopub.status.idle": "2021-03-02T10:58:15.117818Z",
     "shell.execute_reply": "2021-03-02T10:58:15.116997Z"
    },
    "papermill": {
     "duration": 0.043188,
     "end_time": "2021-03-02T10:58:15.118021",
     "exception": false,
     "start_time": "2021-03-02T10:58:15.074833",
     "status": "completed"
    },
    "tags": []
   },
   "outputs": [
    {
     "data": {
      "text/plain": [
       "1     97.025333\n",
       "2      2.395093\n",
       "3      0.303099\n",
       "4      0.108542\n",
       "5      0.053247\n",
       "6      0.035839\n",
       "7      0.028671\n",
       "8      0.010240\n",
       "12     0.008192\n",
       "11     0.008192\n",
       "9      0.007168\n",
       "10     0.003072\n",
       "13     0.003072\n",
       "14     0.002048\n",
       "15     0.002048\n",
       "19     0.002048\n",
       "21     0.001024\n",
       "22     0.001024\n",
       "26     0.001024\n",
       "29     0.001024\n",
       "Name: Frequency, dtype: float64"
      ]
     },
     "execution_count": 10,
     "metadata": {},
     "output_type": "execute_result"
    }
   ],
   "source": [
    "RFM['Frequency'].value_counts(normalize=True)*100"
   ]
  },
  {
   "cell_type": "markdown",
   "metadata": {
    "papermill": {
     "duration": 0.025807,
     "end_time": "2021-03-02T10:58:15.170112",
     "exception": false,
     "start_time": "2021-03-02T10:58:15.144305",
     "status": "completed"
    },
    "tags": []
   },
   "source": [
    "I guess here we should select only frequency values that are greater than 5, because by doing this we only drop 0.11% of records"
   ]
  },
  {
   "cell_type": "code",
   "execution_count": 11,
   "metadata": {
    "execution": {
     "iopub.execute_input": "2021-03-02T10:58:15.237054Z",
     "iopub.status.busy": "2021-03-02T10:58:15.230885Z",
     "iopub.status.idle": "2021-03-02T10:58:15.289319Z",
     "shell.execute_reply": "2021-03-02T10:58:15.288522Z"
    },
    "papermill": {
     "duration": 0.092703,
     "end_time": "2021-03-02T10:58:15.289526",
     "exception": false,
     "start_time": "2021-03-02T10:58:15.196823",
     "status": "completed"
    },
    "tags": []
   },
   "outputs": [
    {
     "data": {
      "text/plain": [
       "less or equal to 5    99.885314\n",
       "greater than 5         0.114686\n",
       "Name: Frequency, dtype: float64"
      ]
     },
     "execution_count": 11,
     "metadata": {},
     "output_type": "execute_result"
    }
   ],
   "source": [
    "RFM['Frequency'].apply(lambda x: 'less or equal to 5' if x<=5 else 'greater than 5')\\\n",
    "                .value_counts(normalize=True) * 100"
   ]
  },
  {
   "cell_type": "code",
   "execution_count": 12,
   "metadata": {
    "execution": {
     "iopub.execute_input": "2021-03-02T10:58:15.351388Z",
     "iopub.status.busy": "2021-03-02T10:58:15.350368Z",
     "iopub.status.idle": "2021-03-02T10:58:15.366373Z",
     "shell.execute_reply": "2021-03-02T10:58:15.365505Z"
    },
    "papermill": {
     "duration": 0.049764,
     "end_time": "2021-03-02T10:58:15.366553",
     "exception": false,
     "start_time": "2021-03-02T10:58:15.316789",
     "status": "completed"
    },
    "tags": []
   },
   "outputs": [],
   "source": [
    "RFM = RFM[RFM['Frequency'] <= 5]"
   ]
  },
  {
   "cell_type": "markdown",
   "metadata": {
    "papermill": {
     "duration": 0.026403,
     "end_time": "2021-03-02T10:58:15.419862",
     "exception": false,
     "start_time": "2021-03-02T10:58:15.393459",
     "status": "completed"
    },
    "tags": []
   },
   "source": [
    "# Monetary"
   ]
  },
  {
   "cell_type": "code",
   "execution_count": 13,
   "metadata": {
    "execution": {
     "iopub.execute_input": "2021-03-02T10:58:15.481535Z",
     "iopub.status.busy": "2021-03-02T10:58:15.480175Z",
     "iopub.status.idle": "2021-03-02T10:58:15.494397Z",
     "shell.execute_reply": "2021-03-02T10:58:15.494894Z"
    },
    "papermill": {
     "duration": 0.048136,
     "end_time": "2021-03-02T10:58:15.495125",
     "exception": false,
     "start_time": "2021-03-02T10:58:15.446989",
     "status": "completed"
    },
    "tags": []
   },
   "outputs": [
    {
     "data": {
      "text/plain": [
       "count    97546.000000\n",
       "mean       159.780566\n",
       "std        218.510326\n",
       "min          0.000000\n",
       "25%         61.880000\n",
       "50%        105.280000\n",
       "75%        176.255000\n",
       "90%        305.680000\n",
       "95%        446.215000\n",
       "99%       1048.570000\n",
       "max      13664.080000\n",
       "Name: Monetary, dtype: float64"
      ]
     },
     "execution_count": 13,
     "metadata": {},
     "output_type": "execute_result"
    }
   ],
   "source": [
    "RFM['Monetary'].describe([0.25, 0.5, 0.75, 0.9, 0.95, 0.99])"
   ]
  },
  {
   "cell_type": "markdown",
   "metadata": {
    "papermill": {
     "duration": 0.027484,
     "end_time": "2021-03-02T10:58:15.549879",
     "exception": false,
     "start_time": "2021-03-02T10:58:15.522395",
     "status": "completed"
    },
    "tags": []
   },
   "source": [
    "Here, it seems like 95% percentile should be used to drop the outliers"
   ]
  },
  {
   "cell_type": "code",
   "execution_count": 14,
   "metadata": {
    "execution": {
     "iopub.execute_input": "2021-03-02T10:58:15.637093Z",
     "iopub.status.busy": "2021-03-02T10:58:15.632077Z",
     "iopub.status.idle": "2021-03-02T10:58:16.403675Z",
     "shell.execute_reply": "2021-03-02T10:58:16.402928Z"
    },
    "papermill": {
     "duration": 0.826468,
     "end_time": "2021-03-02T10:58:16.403836",
     "exception": false,
     "start_time": "2021-03-02T10:58:15.577368",
     "status": "completed"
    },
    "tags": []
   },
   "outputs": [
    {
     "data": {
      "image/png": "[encoded data removed]",
      "text/plain": [
       "<Figure size 864x432 with 1 Axes>"
      ]
     },
     "metadata": {},
     "output_type": "display_data"
    }
   ],
   "source": [
    "plt.figure(figsize=(12, 6))\n",
    "plt.title('Distribution of Monetary < 95%')\n",
    "sns.distplot(RFM[RFM['Monetary']<447].Monetary);"
   ]
  },
  {
   "cell_type": "code",
   "execution_count": 15,
   "metadata": {
    "execution": {
     "iopub.execute_input": "2021-03-02T10:58:16.467991Z",
     "iopub.status.busy": "2021-03-02T10:58:16.467286Z",
     "iopub.status.idle": "2021-03-02T10:58:16.485468Z",
     "shell.execute_reply": "2021-03-02T10:58:16.485988Z"
    },
    "papermill": {
     "duration": 0.053656,
     "end_time": "2021-03-02T10:58:16.486196",
     "exception": false,
     "start_time": "2021-03-02T10:58:16.432540",
     "status": "completed"
    },
    "tags": []
   },
   "outputs": [],
   "source": [
    "RFM = RFM[RFM['Monetary'] < 447]"
   ]
  },
  {
   "cell_type": "markdown",
   "metadata": {
    "papermill": {
     "duration": 0.028463,
     "end_time": "2021-03-02T10:58:16.543129",
     "exception": false,
     "start_time": "2021-03-02T10:58:16.514666",
     "status": "completed"
    },
    "tags": []
   },
   "source": [
    "# RFM groups"
   ]
  },
  {
   "cell_type": "markdown",
   "metadata": {
    "papermill": {
     "duration": 0.028872,
     "end_time": "2021-03-02T10:58:16.601730",
     "exception": false,
     "start_time": "2021-03-02T10:58:16.572858",
     "status": "completed"
    },
    "tags": []
   },
   "source": [
    "I have used quantiles for assigning scores for Recency and Monetary. \n",
    "* groups are 0-33, 33-66, 66-100 quantiles\n",
    "\n",
    "For Frequency I have decided to group them by hand\n",
    "* score=1 if the frequency value is 1\n",
    "* otherwise, the score will be 2"
   ]
  },
  {
   "cell_type": "code",
   "execution_count": 16,
   "metadata": {
    "execution": {
     "iopub.execute_input": "2021-03-02T10:58:16.663924Z",
     "iopub.status.busy": "2021-03-02T10:58:16.663187Z",
     "iopub.status.idle": "2021-03-02T10:58:16.755322Z",
     "shell.execute_reply": "2021-03-02T10:58:16.755910Z"
    },
    "papermill": {
     "duration": 0.125466,
     "end_time": "2021-03-02T10:58:16.756151",
     "exception": false,
     "start_time": "2021-03-02T10:58:16.630685",
     "status": "completed"
    },
    "tags": []
   },
   "outputs": [],
   "source": [
    "RFM['R_score'] = pd.qcut(RFM['Recency'], 3, labels=[1, 2, 3]).astype(str)\n",
    "RFM['M_score'] = pd.qcut(RFM['Monetary'], 3, labels=[1, 2, 3]).astype(str)\n",
    "RFM['F_score'] = RFM['Frequency'].apply(lambda x: '1' if x==1 else '2')\n",
    "\n",
    "RFM['RFM_score'] = RFM['R_score'] + RFM['F_score'] + RFM['M_score']"
   ]
  },
  {
   "cell_type": "markdown",
   "metadata": {
    "papermill": {
     "duration": 0.0285,
     "end_time": "2021-03-02T10:58:16.813629",
     "exception": false,
     "start_time": "2021-03-02T10:58:16.785129",
     "status": "completed"
    },
    "tags": []
   },
   "source": [
    "1. CORE - '123' - most recent, frequent, revenue generating - core customers that should be considered as most valuable clients\n",
    "2. GONE - '311', '312', '313' - gone, one-timers - those clients are probably gone;\n",
    "3. ROOKIE - '111', '112', '113' - just have joined - new clients that have joined recently\n",
    "4. WHALES - '323', '213', '223 - most revenue generating - whales that generate revenue\n",
    "5. LOYAL - '221', '222', '321', '322' - loyal users\n",
    "6. REGULAR - '121', '122', '211', '212', - average users - just regular customers that don't stand out\n",
    "\n"
   ]
  },
  {
   "cell_type": "code",
   "execution_count": 17,
   "metadata": {
    "execution": {
     "iopub.execute_input": "2021-03-02T10:58:16.876782Z",
     "iopub.status.busy": "2021-03-02T10:58:16.876017Z",
     "iopub.status.idle": "2021-03-02T10:58:16.881598Z",
     "shell.execute_reply": "2021-03-02T10:58:16.882127Z"
    },
    "papermill": {
     "duration": 0.039757,
     "end_time": "2021-03-02T10:58:16.882362",
     "exception": false,
     "start_time": "2021-03-02T10:58:16.842605",
     "status": "completed"
    },
    "tags": []
   },
   "outputs": [],
   "source": [
    "def segment(x):\n",
    "    if x == '123':\n",
    "        return 'Core'\n",
    "    elif x in ['311', '312', '313']:\n",
    "        return 'Gone'\n",
    "    elif x in ['111', '112', '113']:\n",
    "        return 'Rookies'\n",
    "    elif x in ['323', '213', '223']:\n",
    "        return 'Whales'\n",
    "    elif x in ['221', '222', '321', '322']:\n",
    "        return 'Loyal'\n",
    "    else:\n",
    "        return 'Regular'"
   ]
  },
  {
   "cell_type": "code",
   "execution_count": 18,
   "metadata": {
    "execution": {
     "iopub.execute_input": "2021-03-02T10:58:16.944760Z",
     "iopub.status.busy": "2021-03-02T10:58:16.944006Z",
     "iopub.status.idle": "2021-03-02T10:58:17.021603Z",
     "shell.execute_reply": "2021-03-02T10:58:17.022183Z"
    },
    "papermill": {
     "duration": 0.110802,
     "end_time": "2021-03-02T10:58:17.022439",
     "exception": false,
     "start_time": "2021-03-02T10:58:16.911637",
     "status": "completed"
    },
    "tags": []
   },
   "outputs": [
    {
     "data": {
      "text/plain": [
       "Rookies    32.547099\n",
       "Gone       32.028097\n",
       "Regular    22.199443\n",
       "Whales     11.516217\n",
       "Loyal       1.440471\n",
       "Core        0.268672\n",
       "Name: segments, dtype: float64"
      ]
     },
     "execution_count": 18,
     "metadata": {},
     "output_type": "execute_result"
    }
   ],
   "source": [
    "RFM['segments'] = RFM['RFM_score'].apply(segment)\n",
    "RFM['segments'].value_counts(normalize=True)*100"
   ]
  },
  {
   "cell_type": "code",
   "execution_count": 19,
   "metadata": {
    "execution": {
     "iopub.execute_input": "2021-03-02T10:58:17.087065Z",
     "iopub.status.busy": "2021-03-02T10:58:17.086274Z",
     "iopub.status.idle": "2021-03-02T10:58:17.242192Z",
     "shell.execute_reply": "2021-03-02T10:58:17.241613Z"
    },
    "papermill": {
     "duration": 0.189497,
     "end_time": "2021-03-02T10:58:17.242360",
     "exception": false,
     "start_time": "2021-03-02T10:58:17.052863",
     "status": "completed"
    },
    "tags": []
   },
   "outputs": [
    {
     "data": {
      "text/html": [
       "<div>\n",
       "<style scoped>\n",
       "    .dataframe tbody tr th:only-of-type {\n",
       "        vertical-align: middle;\n",
       "    }\n",
       "\n",
       "    .dataframe tbody tr th {\n",
       "        vertical-align: top;\n",
       "    }\n",
       "\n",
       "    .dataframe thead th {\n",
       "        text-align: right;\n",
       "    }\n",
       "</style>\n",
       "<table border=\"1\" class=\"dataframe\">\n",
       "  <thead>\n",
       "    <tr style=\"text-align: right;\">\n",
       "      <th></th>\n",
       "      <th>RecencyMean</th>\n",
       "      <th>FrequencyMean</th>\n",
       "      <th>MonetaryMean</th>\n",
       "      <th>GroupSize</th>\n",
       "    </tr>\n",
       "    <tr>\n",
       "      <th>segments</th>\n",
       "      <th></th>\n",
       "      <th></th>\n",
       "      <th></th>\n",
       "      <th></th>\n",
       "    </tr>\n",
       "  </thead>\n",
       "  <tbody>\n",
       "    <tr>\n",
       "      <th>Core</th>\n",
       "      <td>86.939759</td>\n",
       "      <td>2.220884</td>\n",
       "      <td>221.581847</td>\n",
       "      <td>249</td>\n",
       "    </tr>\n",
       "    <tr>\n",
       "      <th>Gone</th>\n",
       "      <td>431.335613</td>\n",
       "      <td>1.000000</td>\n",
       "      <td>122.264921</td>\n",
       "      <td>29683</td>\n",
       "    </tr>\n",
       "    <tr>\n",
       "      <th>Loyal</th>\n",
       "      <td>345.632210</td>\n",
       "      <td>2.262921</td>\n",
       "      <td>73.224195</td>\n",
       "      <td>1335</td>\n",
       "    </tr>\n",
       "    <tr>\n",
       "      <th>Regular</th>\n",
       "      <td>229.625061</td>\n",
       "      <td>1.031302</td>\n",
       "      <td>74.299787</td>\n",
       "      <td>20574</td>\n",
       "    </tr>\n",
       "    <tr>\n",
       "      <th>Rookies</th>\n",
       "      <td>88.471058</td>\n",
       "      <td>1.000000</td>\n",
       "      <td>124.585984</td>\n",
       "      <td>30164</td>\n",
       "    </tr>\n",
       "    <tr>\n",
       "      <th>Whales</th>\n",
       "      <td>238.460695</td>\n",
       "      <td>1.062307</td>\n",
       "      <td>220.948326</td>\n",
       "      <td>10673</td>\n",
       "    </tr>\n",
       "  </tbody>\n",
       "</table>\n",
       "</div>"
      ],
      "text/plain": [
       "          RecencyMean  FrequencyMean  MonetaryMean  GroupSize\n",
       "segments                                                     \n",
       "Core        86.939759       2.220884    221.581847        249\n",
       "Gone       431.335613       1.000000    122.264921      29683\n",
       "Loyal      345.632210       2.262921     73.224195       1335\n",
       "Regular    229.625061       1.031302     74.299787      20574\n",
       "Rookies     88.471058       1.000000    124.585984      30164\n",
       "Whales     238.460695       1.062307    220.948326      10673"
      ]
     },
     "execution_count": 19,
     "metadata": {},
     "output_type": "execute_result"
    }
   ],
   "source": [
    "segmentwise = RFM.groupby('segments').agg(RecencyMean = ('Recency', 'mean'),\n",
    "                                          FrequencyMean = ('Frequency', 'mean'),\n",
    "                                          MonetaryMean = ('Monetary', 'mean'),\n",
    "                                          GroupSize = ('Recency', 'size'))\n",
    "segmentwise"
   ]
  },
  {
   "cell_type": "code",
   "execution_count": 20,
   "metadata": {
    "execution": {
     "iopub.execute_input": "2021-03-02T10:58:17.332295Z",
     "iopub.status.busy": "2021-03-02T10:58:17.331250Z",
     "iopub.status.idle": "2021-03-02T10:58:17.457179Z",
     "shell.execute_reply": "2021-03-02T10:58:17.456602Z"
    },
    "papermill": {
     "duration": 0.18521,
     "end_time": "2021-03-02T10:58:17.457342",
     "exception": false,
     "start_time": "2021-03-02T10:58:17.272132",
     "status": "completed"
    },
    "tags": []
   },
   "outputs": [
    {
     "data": {
      "image/png": "[encoded data removed]",
      "text/plain": [
       "<Figure size 1152x1152 with 1 Axes>"
      ]
     },
     "metadata": {},
     "output_type": "display_data"
    }
   ],
   "source": [
    "font = {'family' : 'normal',\n",
    "        'weight' : 'normal',\n",
    "        'size'   : 18}\n",
    "\n",
    "plt.rc('font', **font)\n",
    "\n",
    "\n",
    "fig = plt.gcf()\n",
    "ax = fig.add_subplot()\n",
    "fig.set_size_inches(16, 16)\n",
    "squarify.plot(sizes = segmentwise['GroupSize'], \n",
    "              label = segmentwise.index,\n",
    "              color = ['gold', 'teal', 'steelblue', 'limegreen', 'darkorange', 'coral'],\n",
    "              alpha = 0.8)\n",
    "plt.title(\"RFM Segments\",fontsize=18,fontweight=\"bold\")\n",
    "plt.axis('off')\n",
    "plt.show()"
   ]
  },
  {
   "cell_type": "markdown",
   "metadata": {
    "papermill": {
     "duration": 0.030403,
     "end_time": "2021-03-02T10:58:17.518910",
     "exception": false,
     "start_time": "2021-03-02T10:58:17.488507",
     "status": "completed"
    },
    "tags": []
   },
   "source": [
    "# Cohort Analysis\n"
   ]
  },
  {
   "cell_type": "code",
   "execution_count": 21,
   "metadata": {
    "execution": {
     "iopub.execute_input": "2021-03-02T10:58:17.636728Z",
     "iopub.status.busy": "2021-03-02T10:58:17.635509Z",
     "iopub.status.idle": "2021-03-02T10:58:18.121603Z",
     "shell.execute_reply": "2021-03-02T10:58:18.119884Z"
    },
    "papermill": {
     "duration": 0.571635,
     "end_time": "2021-03-02T10:58:18.121807",
     "exception": false,
     "start_time": "2021-03-02T10:58:17.550172",
     "status": "completed"
    },
    "tags": []
   },
   "outputs": [
    {
     "data": {
      "text/html": [
       "<div>\n",
       "<style scoped>\n",
       "    .dataframe tbody tr th:only-of-type {\n",
       "        vertical-align: middle;\n",
       "    }\n",
       "\n",
       "    .dataframe tbody tr th {\n",
       "        vertical-align: top;\n",
       "    }\n",
       "\n",
       "    .dataframe thead th {\n",
       "        text-align: right;\n",
       "    }\n",
       "</style>\n",
       "<table border=\"1\" class=\"dataframe\">\n",
       "  <thead>\n",
       "    <tr style=\"text-align: right;\">\n",
       "      <th></th>\n",
       "      <th>cohorts</th>\n",
       "      <th>order_months</th>\n",
       "      <th>ClientsCount</th>\n",
       "      <th>Revenue</th>\n",
       "      <th>Orders</th>\n",
       "      <th>periods</th>\n",
       "    </tr>\n",
       "  </thead>\n",
       "  <tbody>\n",
       "    <tr>\n",
       "      <th>0</th>\n",
       "      <td>2016-09</td>\n",
       "      <td>2016-09</td>\n",
       "      <td>4</td>\n",
       "      <td>252.24</td>\n",
       "      <td>4</td>\n",
       "      <td>0</td>\n",
       "    </tr>\n",
       "    <tr>\n",
       "      <th>1</th>\n",
       "      <td>2016-10</td>\n",
       "      <td>2016-10</td>\n",
       "      <td>324</td>\n",
       "      <td>59090.48</td>\n",
       "      <td>342</td>\n",
       "      <td>0</td>\n",
       "    </tr>\n",
       "    <tr>\n",
       "      <th>2</th>\n",
       "      <td>2016-12</td>\n",
       "      <td>2016-12</td>\n",
       "      <td>1</td>\n",
       "      <td>19.62</td>\n",
       "      <td>1</td>\n",
       "      <td>0</td>\n",
       "    </tr>\n",
       "    <tr>\n",
       "      <th>3</th>\n",
       "      <td>2017-01</td>\n",
       "      <td>2017-01</td>\n",
       "      <td>800</td>\n",
       "      <td>138488.04</td>\n",
       "      <td>850</td>\n",
       "      <td>0</td>\n",
       "    </tr>\n",
       "    <tr>\n",
       "      <th>4</th>\n",
       "      <td>2017-02</td>\n",
       "      <td>2017-02</td>\n",
       "      <td>1780</td>\n",
       "      <td>291908.01</td>\n",
       "      <td>1886</td>\n",
       "      <td>0</td>\n",
       "    </tr>\n",
       "  </tbody>\n",
       "</table>\n",
       "</div>"
      ],
      "text/plain": [
       "   cohorts order_months  ClientsCount    Revenue  Orders  periods\n",
       "0  2016-09      2016-09             4     252.24       4        0\n",
       "1  2016-10      2016-10           324   59090.48     342        0\n",
       "2  2016-12      2016-12             1      19.62       1        0\n",
       "3  2017-01      2017-01           800  138488.04     850        0\n",
       "4  2017-02      2017-02          1780  291908.01    1886        0"
      ]
     },
     "execution_count": 21,
     "metadata": {},
     "output_type": "execute_result"
    }
   ],
   "source": [
    "from operator import attrgetter\n",
    "\n",
    "joined['order_purchase_timestamp'] = pd.to_datetime(joined['order_purchase_timestamp'])\n",
    "\n",
    "joined['order_months'] = joined['order_purchase_timestamp'].dt.to_period('M')\n",
    "joined['cohorts'] = joined.groupby('customer_id')['order_months'].transform('min')\n",
    "\n",
    "cohorts_data = joined.reset_index()\\\n",
    "                     .groupby(['cohorts', 'order_months'])\\\n",
    "                     .agg(ClientsCount = ('customer_id', 'nunique'),\n",
    "                          Revenue = ('payment_value', 'sum'),\n",
    "                          Orders = ('order_id', 'count'))\\\n",
    "                     .reset_index()\n",
    "\n",
    "cohorts_data['periods'] = (cohorts_data.order_months - cohorts_data.cohorts).apply(attrgetter('n')) # periods for which the client have stayed\n",
    "\n",
    "cohorts_data.head()"
   ]
  },
  {
   "cell_type": "markdown",
   "metadata": {
    "papermill": {
     "duration": 0.031563,
     "end_time": "2021-03-02T10:58:18.185778",
     "exception": false,
     "start_time": "2021-03-02T10:58:18.154215",
     "status": "completed"
    },
    "tags": []
   },
   "source": [
    "Since, majority of our clients are not recurring ones, we can't perform proper cohort analysis on retention and other possible metrics.\n",
    "\n",
    "Fortunately, we can analyze dynamics of the bussiness and maybe will be even able to identify some relatively good cohorts that might be used as a prototype (e.g. by marketers)."
   ]
  },
  {
   "cell_type": "code",
   "execution_count": 22,
   "metadata": {
    "execution": {
     "iopub.execute_input": "2021-03-02T10:58:18.301776Z",
     "iopub.status.busy": "2021-03-02T10:58:18.300888Z",
     "iopub.status.idle": "2021-03-02T10:58:18.799083Z",
     "shell.execute_reply": "2021-03-02T10:58:18.798342Z"
    },
    "papermill": {
     "duration": 0.581596,
     "end_time": "2021-03-02T10:58:18.799267",
     "exception": false,
     "start_time": "2021-03-02T10:58:18.217671",
     "status": "completed"
    },
    "tags": []
   },
   "outputs": [
    {
     "data": {
      "image/png": "[encoded data removed]",
      "text/plain": [
       "<Figure size 1728x432 with 2 Axes>"
      ]
     },
     "metadata": {},
     "output_type": "display_data"
    }
   ],
   "source": [
    "font = {'family' : 'normal',\n",
    "        'weight' : 'normal',\n",
    "        'size'   : 12}\n",
    "\n",
    "plt.rc('font', **font)\n",
    "fig, (ax1, ax2) = plt.subplots(1, 2, figsize=(24,6)) # for 2 parrallel plots\n",
    "\n",
    "cohorts_data.set_index('cohorts').Revenue.plot(ax=ax1)\n",
    "ax1.set_title('Cohort-wise revenue')\n",
    "\n",
    "cohorts_data.set_index('cohorts').ClientsCount.plot(ax=ax2, c='b')\n",
    "ax2.set_title('Cohort-wise clients counts');"
   ]
  },
  {
   "cell_type": "markdown",
   "metadata": {
    "papermill": {
     "duration": 0.033902,
     "end_time": "2021-03-02T10:58:18.867276",
     "exception": false,
     "start_time": "2021-03-02T10:58:18.833374",
     "status": "completed"
    },
    "tags": []
   },
   "source": [
    "The figure above reveals the dynamics of Revenue and Number of Clients per cohort.\n",
    "\n",
    "On the left side we can see Revenue plot and on the right side can see ClientsCount plot.\n",
    "\n",
    "Overall, we can come to the next conclusions:\n",
    "* dynamics of two graphs are almost identical. Thus, it seems like the Average Order Amount was the same almost for each cohort. It could mean that the only way to get more revenue is to get more clients. Also, we know that we have 97% of non-recurring clients, thus maybe resolving this issue and stimulating customers to comeback would also result in revenue increase\n",
    "\n",
    "* I suspect that we don't have the full data for the last several months, because we can see abnormal drop. Thus, these last months shouldn't be taken into considerations\n",
    "\n",
    "* Cohort of November-2017 looks like out of trend, since this cohort showed outstanding results. It can be due to Black Friday sales that often happen at Novembers, or maybe during the November of 2017 some experimental marketing campaigns were performed that lead to good results. Thus, this cohort should be investigated by the company in order to identify the reason behind such an outstanding result, and take it into account"
   ]
  },
  {
   "cell_type": "code",
   "execution_count": 23,
   "metadata": {
    "execution": {
     "iopub.execute_input": "2021-03-02T10:58:18.960671Z",
     "iopub.status.busy": "2021-03-02T10:58:18.942126Z",
     "iopub.status.idle": "2021-03-02T10:58:19.225055Z",
     "shell.execute_reply": "2021-03-02T10:58:19.224336Z"
    },
    "papermill": {
     "duration": 0.323858,
     "end_time": "2021-03-02T10:58:19.225225",
     "exception": false,
     "start_time": "2021-03-02T10:58:18.901367",
     "status": "completed"
    },
    "tags": []
   },
   "outputs": [
    {
     "data": {
      "image/png": "[encoded data removed]",
      "text/plain": [
       "<Figure size 1728x432 with 2 Axes>"
      ]
     },
     "metadata": {},
     "output_type": "display_data"
    }
   ],
   "source": [
    "ig, (ax1, ax2) = plt.subplots(1, 2, figsize=(24,6))\n",
    "\n",
    "(cohorts_data['Revenue']/cohorts_data['Orders']).plot(ax=ax1)\n",
    "ax1.set_title('Average Order Amount per cohort')\n",
    "\n",
    "sns.boxplot((cohorts_data['Revenue']/cohorts_data['Orders']), ax=ax2)\n",
    "ax2.set_title('Boxplot of the Average Order Amount');"
   ]
  },
  {
   "cell_type": "markdown",
   "metadata": {
    "papermill": {
     "duration": 0.0356,
     "end_time": "2021-03-02T10:58:19.296525",
     "exception": false,
     "start_time": "2021-03-02T10:58:19.260925",
     "status": "completed"
    },
    "tags": []
   },
   "source": [
    "As it was pointed out above, the average order is the same for almost all the cohors. But we have some outliers that are located at the start and end of the left graph. Those outliers probably should be ignored and we can assume that Average Order Amount is the same for each cohort. Thus, it may imply that the company should work on increasing the number of clients"
   ]
  }
 ],
 "metadata": {
  "kernelspec": {
   "display_name": "Python 3",
   "language": "python",
   "name": "python3"
  },
  "language_info": {
   "codemirror_mode": {
    "name": "ipython",
    "version": 3
   },
   "file_extension": ".py",
   "mimetype": "text/x-python",
   "name": "python",
   "nbconvert_exporter": "python",
   "pygments_lexer": "ipython3",
   "version": "3.8.3"
  },
  "papermill": {
   "default_parameters": {},
   "duration": 27.685785,
   "end_time": "2021-03-02T10:58:20.145594",
   "environment_variables": {},
   "exception": null,
   "input_path": "__notebook__.ipynb",
   "output_path": "__notebook__.ipynb",
   "parameters": {},
   "start_time": "2021-03-02T10:57:52.459809",
   "version": "2.2.2"
  }
 },
 "nbformat": 4,
 "nbformat_minor": 4
}
